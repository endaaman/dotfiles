{
 "cells": [
  {
   "cell_type": "code",
   "execution_count": 1,
   "id": "70496a68",
   "metadata": {},
   "outputs": [],
   "source": [
    "import torch\n",
    "import numpy as np"
   ]
  },
  {
   "cell_type": "code",
   "execution_count": 2,
   "id": "83469d8d",
   "metadata": {},
   "outputs": [
    {
     "name": "stdout",
     "output_type": "stream",
     "text": [
      "エントロピーの平均: 尖っていてほしい→小さくなってほしい\n",
      "tensor([0.2222, 0.2871, 0.2872])\n",
      "tensor(0.7965)\n",
      "平均のエントロピー: データ間では散らばっていてほしい→大きくなってほしい\n",
      "tensor([0.3637, 0.3678, 0.3219])\n",
      "tensor(1.0534)\n"
     ]
    }
   ],
   "source": [
    "x = torch.tensor([\n",
    "    [0.8, 0.1, 0.1],\n",
    "    [0.7, 0.2, 0.1],\n",
    "    [0.1, 0.5, 0.4],\n",
    "    [0.1, 0.7, 0.2],    \n",
    "])\n",
    "\n",
    "print('エントロピーの平均: 尖っていてほしい→小さくなってほしい')\n",
    "Hx = -torch.log(x)*x\n",
    "print(Hx.mean(axis=0))\n",
    "print(Hx.mean(axis=0).sum())\n",
    "\n",
    "\n",
    "print('平均のエントロピー: データ間では散らばっていてほしい→大きくなってほしい')\n",
    "x2 = x.mean(axis=0)\n",
    "Hx2 = -torch.log(x2)*x2\n",
    "print(Hx2)\n",
    "print(Hx2.sum())"
   ]
  },
  {
   "cell_type": "code",
   "execution_count": 3,
   "id": "12f6a05b",
   "metadata": {},
   "outputs": [
    {
     "name": "stdout",
     "output_type": "stream",
     "text": [
      "各データの尖りが増すケース\n",
      "エントロピーの平均: 尖っていてほしい→小さくなってほしい\n",
      "tensor([0.2222, 0.2064, 0.2643])\n",
      "tensor(0.6929)\n",
      "平均のエントロピー: データ間では散らばっていてほしい→大きくなってほしい\n",
      "tensor([0.3637, 0.3466, 0.3050])\n",
      "tensor(1.0153)\n"
     ]
    }
   ],
   "source": [
    "print('各データの尖りが増すケース')\n",
    "\n",
    "x = torch.tensor([\n",
    "    [0.8, 0.1, 0.1],\n",
    "    [0.7, 0.2, 0.1],\n",
    "    [0.1, 0.9, 0.4],\n",
    "    [0.1, 0.8, 0.1],     \n",
    "])\n",
    "\n",
    "print('エントロピーの平均: 尖っていてほしい→小さくなってほしい')\n",
    "Hx = -torch.log(x)*x\n",
    "print(Hx.mean(axis=0))\n",
    "print(Hx.mean(axis=0).sum())\n",
    "\n",
    "\n",
    "print('平均のエントロピー: データ間では散らばっていてほしい→大きくなってほしい')\n",
    "x2 = x.mean(axis=0)\n",
    "Hx2 = -torch.log(x2)*x2\n",
    "print(Hx2)\n",
    "print(Hx2.sum())"
   ]
  },
  {
   "cell_type": "code",
   "execution_count": 4,
   "id": "5de5ef69",
   "metadata": {},
   "outputs": [
    {
     "name": "stdout",
     "output_type": "stream",
     "text": [
      "各データの散らばりが増える\n",
      "エントロピーの平均: 尖っていてほしい→小さくなってほしい\n",
      "tensor([0.2173, 0.2871, 0.2921])\n",
      "tensor(0.7965)\n",
      "平均のエントロピー: データ間では散らばっていてほしい→大きくなってほしい\n",
      "tensor([0.3550, 0.3678, 0.3674])\n",
      "tensor(1.0903)\n"
     ]
    }
   ],
   "source": [
    "print('各データの散らばりが増える')\n",
    "\n",
    "x = torch.tensor([\n",
    "    [0.8, 0.1, 0.1],\n",
    "    [0.1, 0.2, 0.7],\n",
    "    [0.1, 0.5, 0.4],\n",
    "    [0.1, 0.7, 0.2],    \n",
    "])\n",
    "\n",
    "print('エントロピーの平均: 尖っていてほしい→小さくなってほしい')\n",
    "Hx = -torch.log(x)*x\n",
    "print(Hx.mean(axis=0))\n",
    "print(Hx.mean(axis=0).sum())\n",
    "\n",
    "\n",
    "print('平均のエントロピー: データ間では散らばっていてほしい→大きくなってほしい')\n",
    "x2 = x.mean(axis=0)\n",
    "Hx2 = -torch.log(x2)*x2\n",
    "print(Hx2)\n",
    "print(Hx2.sum())"
   ]
  }
 ],
 "metadata": {
  "kernelspec": {
   "display_name": "Python 3 (ipykernel)",
   "language": "python",
   "name": "python3"
  },
  "language_info": {
   "codemirror_mode": {
    "name": "ipython",
    "version": 3
   },
   "file_extension": ".py",
   "mimetype": "text/x-python",
   "name": "python",
   "nbconvert_exporter": "python",
   "pygments_lexer": "ipython3",
   "version": "3.11.8"
  }
 },
 "nbformat": 4,
 "nbformat_minor": 5
}
