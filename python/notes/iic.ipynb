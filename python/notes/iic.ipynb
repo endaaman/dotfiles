{
 "cells": [
  {
   "cell_type": "code",
   "execution_count": 2,
   "id": "79aac7df",
   "metadata": {},
   "outputs": [],
   "source": [
    "import torch\n",
    "import numpy as np"
   ]
  },
  {
   "cell_type": "code",
   "execution_count": 4,
   "id": "ad7a3351",
   "metadata": {},
   "outputs": [
    {
     "name": "stdout",
     "output_type": "stream",
     "text": [
      "tensor([0.8000, 0.1000, 0.1000])\n",
      "tensor([0.5000, 0.3000, 0.2000])\n",
      "p tensor(1.0000)\n",
      "pt tensor(1.5000)\n",
      "I tensor(1.6687)\n",
      "It tensor(2.0279)\n",
      "\n",
      "p tensor(1.0000)\n",
      "pt tensor(1.5000)\n",
      "I tensor(1.4409)\n",
      "It tensor(1.5800)\n",
      "\n",
      "tensor([0.5000, 0.3000, 0.2000])\n",
      "tensor([0.8000, 0.1000, 0.1000])\n",
      "p tensor(1.0000)\n",
      "pt tensor(1.5000)\n",
      "I tensor(1.6687)\n",
      "It tensor(2.0279)\n",
      "\n"
     ]
    },
    {
     "ename": "NameError",
     "evalue": "name 'rint' is not defined",
     "output_type": "error",
     "traceback": [
      "\u001b[0;31m---------------------------------------------------------------------------\u001b[0m",
      "\u001b[0;31mNameError\u001b[0m                                 Traceback (most recent call last)",
      "Cell \u001b[0;32mIn[4], line 54\u001b[0m\n\u001b[1;32m     52\u001b[0m x \u001b[38;5;241m=\u001b[39m torch\u001b[38;5;241m.\u001b[39mtensor([\u001b[38;5;241m0.5\u001b[39m, \u001b[38;5;241m0.4\u001b[39m, \u001b[38;5;241m0.1\u001b[39m])\n\u001b[1;32m     53\u001b[0m y \u001b[38;5;241m=\u001b[39m torch\u001b[38;5;241m.\u001b[39mtensor([\u001b[38;5;241m0.5\u001b[39m, \u001b[38;5;241m0.4\u001b[39m, \u001b[38;5;241m0.1\u001b[39m])\n\u001b[0;32m---> 54\u001b[0m [\u001b[43mrint\u001b[49m]\n\u001b[1;32m     56\u001b[0m p \u001b[38;5;241m=\u001b[39m x\u001b[38;5;241m.\u001b[39munsqueeze(\u001b[38;5;241m0\u001b[39m) \u001b[38;5;241m*\u001b[39m y\u001b[38;5;241m.\u001b[39munsqueeze(\u001b[38;5;241m1\u001b[39m)\n\u001b[1;32m     57\u001b[0m I \u001b[38;5;241m=\u001b[39m \u001b[38;5;241m-\u001b[39mp \u001b[38;5;241m*\u001b[39m p\u001b[38;5;241m.\u001b[39mlog()\n",
      "\u001b[0;31mNameError\u001b[0m: name 'rint' is not defined"
     ]
    }
   ],
   "source": [
    "x = torch.tensor([0.8, 0.1, 0.1])\n",
    "y = torch.tensor([0.5, 0.3, 0.2])\n",
    "print(x)\n",
    "print(y)\n",
    "\n",
    "p = x.unsqueeze(0) * y.unsqueeze(1)\n",
    "I = -p * p.log()\n",
    "pt = (p + p.t()/2)\n",
    "It = -pt * pt.log()\n",
    "\n",
    "print('p', p.sum())\n",
    "print('pt', pt.sum())\n",
    "print('I', I.sum())\n",
    "print('It', It.sum())\n",
    "print()\n",
    "\n",
    "x = torch.tensor([0.8, 0.1, 0.1])\n",
    "y = torch.tensor([0.7, 0.2, 0.1])\n",
    "\n",
    "p = x.unsqueeze(0) * y.unsqueeze(1)\n",
    "I = -p * p.log()\n",
    "pt = (p + p.t()/2)\n",
    "It = -pt * pt.log()\n",
    "\n",
    "print('p', p.sum())\n",
    "print('pt', pt.sum())\n",
    "print('I', I.sum())\n",
    "print('It', It.sum())\n",
    "print()\n",
    "\n",
    "# x = torch.tensor([0.8, 0.1, 0.1])\n",
    "# y = torch.tensor([0.8, 0.1, 0.1])\n",
    "x = torch.tensor([0.5, 0.3, 0.2])\n",
    "y = torch.tensor([0.8, 0.1, 0.1])\n",
    "print(x)\n",
    "print(y)\n",
    "\n",
    "\n",
    "\n",
    "p = x.unsqueeze(0) * y.unsqueeze(1)\n",
    "I = -p * p.log()\n",
    "pt = (p + p.t()/2)\n",
    "It = -pt * pt.log()\n",
    "\n",
    "print('p', p.sum())\n",
    "print('pt', pt.sum())\n",
    "print('I', I.sum())\n",
    "print('It', It.sum())\n",
    "print()\n",
    "\n",
    "\n",
    "x = torch.tensor([0.5, 0.4, 0.1])\n",
    "y = torch.tensor([0.5, 0.4, 0.1])\n",
    "[rint]\n",
    "\n",
    "p = x.unsqueeze(0) * y.unsqueeze(1)\n",
    "I = -p * p.log()\n",
    "pt = (p + p.t()/2)\n",
    "It = -pt * pt.log()\n",
    "\n",
    "print('p', p.sum())\n",
    "print('pt', pt.sum())\n",
    "print('I', I.sum())\n",
    "print('It', It.sum())\n",
    "print()\n",
    "\n"
   ]
  },
  {
   "cell_type": "code",
   "execution_count": 42,
   "id": "1719b958",
   "metadata": {},
   "outputs": [],
   "source": [
    "x = torch.tensor([\n",
    "    [0.1, 0.1, 0.8],\n",
    "    [0.8, 0.1, 0.1],\n",
    "])\n",
    "\n",
    "y1 = torch.tensor([\n",
    "    [0.1, 0.1, 0.8],\n",
    "    [0.5, 0.3, 0.2],\n",
    "])\n",
    "\n",
    "y2 = torch.tensor([\n",
    "    [0.1, 0.1, 0.8],\n",
    "    [0.7, 0.2, 0.1],\n",
    "])"
   ]
  },
  {
   "cell_type": "code",
   "execution_count": 43,
   "id": "caac2bb1",
   "metadata": {},
   "outputs": [
    {
     "name": "stdout",
     "output_type": "stream",
     "text": [
      "tensor([[[0.0100, 0.0100, 0.0800],\n",
      "         [0.0100, 0.0100, 0.0800],\n",
      "         [0.0800, 0.0800, 0.6400]],\n",
      "\n",
      "        [[0.4000, 0.2400, 0.1600],\n",
      "         [0.0500, 0.0300, 0.0200],\n",
      "         [0.0500, 0.0300, 0.0200]]])\n",
      "tensor([[0.4100, 0.2500, 0.2400],\n",
      "        [0.0600, 0.0400, 0.1000],\n",
      "        [0.1300, 0.1100, 0.6600]])\n",
      "Pi tensor([0.6000, 0.4000, 1.0000])\n",
      "Pj tensor([0.9000, 0.2000, 0.9000])\n",
      "mul tensor([0.4100, 0.0400, 0.6600])\n",
      "cross tensor([[0.4605, 0.4605, 0.3570],\n",
      "        [0.6661, 0.8112, 0.6215]])\n",
      "cross tensor(3.3768)\n"
     ]
    }
   ],
   "source": [
    "# h1 = x * y1.log() + x.log() * y1\n",
    "# print(h1)\n",
    "# print(h1.sum(dim=1))\n",
    "# print(h1.shape)\n",
    "\n",
    "# h2 = x*y2.log() + x.log()*y2\n",
    "# print(h2)\n",
    "# print(h2.sum(dim=1))\n",
    "# print(h2.shape)\n",
    "\n",
    "p = x.unsqueeze(2) * y1.unsqueeze(1)\n",
    "print(p)\n",
    "p = p.sum(dim=0)\n",
    "print(p)\n",
    "\n",
    "p_i = p.sum(0)\n",
    "print('Pi', p_i)\n",
    "\n",
    "p_j = p.sum(1)\n",
    "print('Pj', p_j)\n",
    "\n",
    "print('mul', (x*y1).sum(0))\n",
    "print('cross', (- x*y1.log() - x.log()*y1))\n",
    "print('cross', (- x*y1.log() - x.log()*y1).sum())"
   ]
  },
  {
   "cell_type": "code",
   "execution_count": 41,
   "id": "4f705ae4",
   "metadata": {},
   "outputs": [
    {
     "name": "stdout",
     "output_type": "stream",
     "text": [
      "tensor([[[0.0100, 0.0100, 0.0800],\n",
      "         [0.0100, 0.0100, 0.0800],\n",
      "         [0.0800, 0.0800, 0.6400]],\n",
      "\n",
      "        [[0.5600, 0.1600, 0.0800],\n",
      "         [0.0700, 0.0200, 0.0100],\n",
      "         [0.0700, 0.0200, 0.0100]]])\n",
      "tensor([[0.5700, 0.1700, 0.1600],\n",
      "        [0.0800, 0.0300, 0.0900],\n",
      "        [0.1500, 0.1000, 0.6500]])\n",
      "Pi tensor([0.8000, 0.3000, 0.9000])\n",
      "Pj tensor([0.9000, 0.2000, 0.9000])\n",
      "mul tensor([0.5700, 0.0300, 0.6500])\n",
      "cross tensor([[0.4605, 0.4605, 0.3570],\n",
      "        [0.4415, 0.6215, 0.4605]])\n",
      "cross tensor(2.8016)\n"
     ]
    }
   ],
   "source": [
    "p = x.unsqueeze(2) * y2.unsqueeze(1)\n",
    "print(p)\n",
    "p = p.sum(dim=0)\n",
    "print(p)\n",
    "\n",
    "p_i = p.sum(0)\n",
    "print('Pi', p_i)\n",
    "\n",
    "p_j = p.sum(1)\n",
    "print('Pj', p_j)\n",
    "\n",
    "print('mul', (x*y2).sum(0))\n",
    "print('cross', (- x*y2.log() - x.log()*y2))\n",
    "print('cross', (- x*y2.log() - x.log()*y2).sum())"
   ]
  }
 ],
 "metadata": {
  "kernelspec": {
   "display_name": "Python 3 (ipykernel)",
   "language": "python",
   "name": "python3"
  },
  "language_info": {
   "codemirror_mode": {
    "name": "ipython",
    "version": 3
   },
   "file_extension": ".py",
   "mimetype": "text/x-python",
   "name": "python",
   "nbconvert_exporter": "python",
   "pygments_lexer": "ipython3",
   "version": "3.11.8"
  }
 },
 "nbformat": 4,
 "nbformat_minor": 5
}
